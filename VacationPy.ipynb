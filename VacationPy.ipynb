{
 "cells": [
  {
   "cell_type": "markdown",
   "metadata": {},
   "source": [
    "# Dependencies and SetUp"
   ]
  },
  {
   "cell_type": "code",
   "execution_count": 1,
   "metadata": {},
   "outputs": [],
   "source": [
    "# Dependencies and Setup\n",
    "import matplotlib.pyplot as plt\n",
    "import pandas as pd\n",
    "import numpy as np\n",
    "import requests\n",
    "import gmaps\n",
    "import os\n",
    "\n",
    "# Import API key\n",
    "from api_keys import gkey\n",
    "\n",
    "# Configure gmaps\n",
    "gmaps.configure(api_key=gkey)"
   ]
  },
  {
   "cell_type": "markdown",
   "metadata": {},
   "source": [
    "# Load csv exported from WeatherPy to a DataFrame"
   ]
  },
  {
   "cell_type": "code",
   "execution_count": 2,
   "metadata": {},
   "outputs": [
    {
     "data": {
      "text/html": [
       "<div>\n",
       "<style scoped>\n",
       "    .dataframe tbody tr th:only-of-type {\n",
       "        vertical-align: middle;\n",
       "    }\n",
       "\n",
       "    .dataframe tbody tr th {\n",
       "        vertical-align: top;\n",
       "    }\n",
       "\n",
       "    .dataframe thead th {\n",
       "        text-align: right;\n",
       "    }\n",
       "</style>\n",
       "<table border=\"1\" class=\"dataframe\">\n",
       "  <thead>\n",
       "    <tr style=\"text-align: right;\">\n",
       "      <th></th>\n",
       "      <th>City</th>\n",
       "      <th>Lat</th>\n",
       "      <th>Lng</th>\n",
       "      <th>Max Temp</th>\n",
       "      <th>Humidity</th>\n",
       "      <th>Cloudiness</th>\n",
       "      <th>Wind Speed</th>\n",
       "      <th>Country</th>\n",
       "      <th>Date</th>\n",
       "    </tr>\n",
       "  </thead>\n",
       "  <tbody>\n",
       "    <tr>\n",
       "      <th>0</th>\n",
       "      <td>Kayerkan</td>\n",
       "      <td>69.3497</td>\n",
       "      <td>87.7602</td>\n",
       "      <td>35.13</td>\n",
       "      <td>97</td>\n",
       "      <td>100</td>\n",
       "      <td>12.46</td>\n",
       "      <td>RU</td>\n",
       "      <td>1632081430</td>\n",
       "    </tr>\n",
       "    <tr>\n",
       "      <th>1</th>\n",
       "      <td>Mataura</td>\n",
       "      <td>-46.1927</td>\n",
       "      <td>168.8643</td>\n",
       "      <td>39.47</td>\n",
       "      <td>96</td>\n",
       "      <td>32</td>\n",
       "      <td>3.87</td>\n",
       "      <td>NZ</td>\n",
       "      <td>1632081431</td>\n",
       "    </tr>\n",
       "    <tr>\n",
       "      <th>2</th>\n",
       "      <td>Koungou</td>\n",
       "      <td>-12.7336</td>\n",
       "      <td>45.2042</td>\n",
       "      <td>76.71</td>\n",
       "      <td>78</td>\n",
       "      <td>90</td>\n",
       "      <td>14.97</td>\n",
       "      <td>YT</td>\n",
       "      <td>1632081431</td>\n",
       "    </tr>\n",
       "    <tr>\n",
       "      <th>3</th>\n",
       "      <td>Severo-Kuril'sk</td>\n",
       "      <td>50.6789</td>\n",
       "      <td>156.1250</td>\n",
       "      <td>50.45</td>\n",
       "      <td>97</td>\n",
       "      <td>100</td>\n",
       "      <td>12.35</td>\n",
       "      <td>RU</td>\n",
       "      <td>1632081158</td>\n",
       "    </tr>\n",
       "    <tr>\n",
       "      <th>4</th>\n",
       "      <td>Nyurba</td>\n",
       "      <td>63.2842</td>\n",
       "      <td>118.3319</td>\n",
       "      <td>23.85</td>\n",
       "      <td>91</td>\n",
       "      <td>10</td>\n",
       "      <td>2.26</td>\n",
       "      <td>RU</td>\n",
       "      <td>1632081432</td>\n",
       "    </tr>\n",
       "  </tbody>\n",
       "</table>\n",
       "</div>"
      ],
      "text/plain": [
       "              City      Lat       Lng  Max Temp  Humidity  Cloudiness  \\\n",
       "0         Kayerkan  69.3497   87.7602     35.13        97         100   \n",
       "1          Mataura -46.1927  168.8643     39.47        96          32   \n",
       "2          Koungou -12.7336   45.2042     76.71        78          90   \n",
       "3  Severo-Kuril'sk  50.6789  156.1250     50.45        97         100   \n",
       "4           Nyurba  63.2842  118.3319     23.85        91          10   \n",
       "\n",
       "   Wind Speed Country        Date  \n",
       "0       12.46      RU  1632081430  \n",
       "1        3.87      NZ  1632081431  \n",
       "2       14.97      YT  1632081431  \n",
       "3       12.35      RU  1632081158  \n",
       "4        2.26      RU  1632081432  "
      ]
     },
     "execution_count": 2,
     "metadata": {},
     "output_type": "execute_result"
    }
   ],
   "source": [
    "csv_file = 'output_data/cities.csv'\n",
    "cities_df = pd.read_csv(csv_file)\n",
    "cities_df.head()"
   ]
  },
  {
   "cell_type": "markdown",
   "metadata": {},
   "source": [
    "# Humidity Heatmap"
   ]
  },
  {
   "cell_type": "markdown",
   "metadata": {},
   "source": [
    "* use Lat and Lng as locations and Humidity as weight\n",
    "* Add Heatmap Layer to Map"
   ]
  },
  {
   "cell_type": "code",
   "execution_count": 3,
   "metadata": {},
   "outputs": [
    {
     "data": {
      "application/vnd.jupyter.widget-view+json": {
       "model_id": "4c77878878f54e8899f97018f88a38b9",
       "version_major": 2,
       "version_minor": 0
      },
      "text/plain": [
       "Figure(layout=FigureLayout(height='420px'))"
      ]
     },
     "metadata": {},
     "output_type": "display_data"
    }
   ],
   "source": [
    "locations = cities_df[['Lat','Lng']]\n",
    "weight = cities_df['Humidity']\n",
    "max_intensity = weight.max()\n",
    "\n",
    "# Plot Heatmap\n",
    "fig = gmaps.figure(center=(46.0,-5.0), zoom_level=2)\n",
    "\n",
    "# Create heat layer\n",
    "heat_layer = gmaps.heatmap_layer(locations, weights= weight, dissipating=False, max_intensity=max_intensity, point_radius=1)\n",
    "\n",
    "# Add Layer\n",
    "fig.add_layer(heat_layer)\n",
    "\n",
    "# Display figure\n",
    "fig"
   ]
  },
  {
   "cell_type": "markdown",
   "metadata": {},
   "source": [
    "#  Create new DataFrame fitting weather criteria\n",
    "\n",
    "* Narrow down the DataFrame to find your ideal weather condition\n",
    "* Drop any rows that don't contain all three conditions."
   ]
  },
  {
   "cell_type": "code",
   "execution_count": 10,
   "metadata": {},
   "outputs": [],
   "source": [
    "# Filter the data to fit the ideal weather condition\n",
    "ideal_weather = cities_df.loc[(cities_df['Max Temp'] >= 75) & (cities_df['Max Temp'] < 85) & \\\n",
    "                              (cities_df['Wind Speed'] < 10) & (cities_df['Cloudiness'] < 10) & \\\n",
    "                              (cities_df['Humidity'] < 60) & (cities_df['Humidity'] >= 40)].dropna()"
   ]
  },
  {
   "cell_type": "code",
   "execution_count": 11,
   "metadata": {},
   "outputs": [
    {
     "name": "stdout",
     "output_type": "stream",
     "text": [
      "After cleaning the data, there are a new total of 8 out of 585 cities that fit within the ideal weather\n"
     ]
    }
   ],
   "source": [
    "# Print new total count of cities\n",
    "city_number = ideal_weather['City'].count()\n",
    "city_number_ori = cities_df['City'].count()\n",
    "\n",
    "print(f'After cleaning the data, there are a new total of {city_number} out of {city_number_ori} cities that fit within the ideal weather')"
   ]
  },
  {
   "cell_type": "markdown",
   "metadata": {},
   "source": [
    "# Hotel Map\n",
    "* Store into variable named hotel_df.\n",
    "* Add a \"Hotel Name\" column to the DataFrame.\n",
    "* Set parameters to search for hotels with 5000 meters.\n",
    "* Hit the Google Places API for each city's coordinates.\n",
    "* Store the first Hotel result into the DataFrame.\n",
    "* Plot markers on top of the heatmap."
   ]
  },
  {
   "cell_type": "code",
   "execution_count": 12,
   "metadata": {},
   "outputs": [
    {
     "data": {
      "text/html": [
       "<div>\n",
       "<style scoped>\n",
       "    .dataframe tbody tr th:only-of-type {\n",
       "        vertical-align: middle;\n",
       "    }\n",
       "\n",
       "    .dataframe tbody tr th {\n",
       "        vertical-align: top;\n",
       "    }\n",
       "\n",
       "    .dataframe thead th {\n",
       "        text-align: right;\n",
       "    }\n",
       "</style>\n",
       "<table border=\"1\" class=\"dataframe\">\n",
       "  <thead>\n",
       "    <tr style=\"text-align: right;\">\n",
       "      <th></th>\n",
       "      <th>City</th>\n",
       "      <th>Country</th>\n",
       "      <th>Lat</th>\n",
       "      <th>Lng</th>\n",
       "      <th>Hotel Name</th>\n",
       "    </tr>\n",
       "  </thead>\n",
       "  <tbody>\n",
       "    <tr>\n",
       "      <th>12</th>\n",
       "      <td>Albany</td>\n",
       "      <td>US</td>\n",
       "      <td>42.6001</td>\n",
       "      <td>-73.9662</td>\n",
       "      <td></td>\n",
       "    </tr>\n",
       "    <tr>\n",
       "      <th>22</th>\n",
       "      <td>Jamestown</td>\n",
       "      <td>US</td>\n",
       "      <td>42.0970</td>\n",
       "      <td>-79.2353</td>\n",
       "      <td></td>\n",
       "    </tr>\n",
       "    <tr>\n",
       "      <th>67</th>\n",
       "      <td>Goderich</td>\n",
       "      <td>CA</td>\n",
       "      <td>43.7501</td>\n",
       "      <td>-81.7165</td>\n",
       "      <td></td>\n",
       "    </tr>\n",
       "    <tr>\n",
       "      <th>132</th>\n",
       "      <td>Baena</td>\n",
       "      <td>ES</td>\n",
       "      <td>37.6167</td>\n",
       "      <td>-4.3225</td>\n",
       "      <td></td>\n",
       "    </tr>\n",
       "    <tr>\n",
       "      <th>359</th>\n",
       "      <td>Freeport</td>\n",
       "      <td>US</td>\n",
       "      <td>40.6576</td>\n",
       "      <td>-73.5832</td>\n",
       "      <td></td>\n",
       "    </tr>\n",
       "  </tbody>\n",
       "</table>\n",
       "</div>"
      ],
      "text/plain": [
       "          City Country      Lat      Lng Hotel Name\n",
       "12      Albany      US  42.6001 -73.9662           \n",
       "22   Jamestown      US  42.0970 -79.2353           \n",
       "67    Goderich      CA  43.7501 -81.7165           \n",
       "132      Baena      ES  37.6167  -4.3225           \n",
       "359   Freeport      US  40.6576 -73.5832           "
      ]
     },
     "execution_count": 12,
     "metadata": {},
     "output_type": "execute_result"
    }
   ],
   "source": [
    "# Create hotel_df\n",
    "hotel_df = ideal_weather.loc[:,[\"City\",'Country','Lat','Lng']]\n",
    "\n",
    "# Add a new column Hotel Name\n",
    "hotel_df['Hotel Name'] = \"\"\n",
    "\n",
    "# Display hotel_df\n",
    "hotel_df.head()"
   ]
  },
  {
   "cell_type": "code",
   "execution_count": 13,
   "metadata": {},
   "outputs": [],
   "source": [
    "url = \"https://maps.googleapis.com/maps/api/place/nearbysearch/json\"\n",
    "params = {'type':'hotel',\n",
    "         'keyword':'hotel',\n",
    "         'radius': 5000,\n",
    "         'key': gkey}"
   ]
  },
  {
   "cell_type": "code",
   "execution_count": 14,
   "metadata": {},
   "outputs": [
    {
     "name": "stdout",
     "output_type": "stream",
     "text": [
      "Retrieving Results for Index 12: Albany.\n",
      "Missing field/result... skipping.\n",
      "------------\n",
      "Retrieving Results for Index 22: Jamestown.\n",
      "Closest hotel in Jamestown is La Quinta Inn & Suites by Wyndham Jamestown.\n",
      "------------\n",
      "Retrieving Results for Index 67: Goderich.\n",
      "Closest hotel in Goderich is Comfort Inn & Suites.\n",
      "------------\n",
      "Retrieving Results for Index 132: Baena.\n",
      "Closest hotel in Baena is La Casa Grande.\n",
      "------------\n",
      "Retrieving Results for Index 359: Freeport.\n",
      "Closest hotel in Freeport is Ramada by Wyndham Rockville Centre.\n",
      "------------\n",
      "Retrieving Results for Index 372: Loralai.\n",
      "Closest hotel in Loralai is Pakiza Hotel.\n",
      "------------\n",
      "Retrieving Results for Index 448: Ypsilanti.\n",
      "Missing field/result... skipping.\n",
      "------------\n",
      "Retrieving Results for Index 496: Tūkrah.\n",
      "Closest hotel in Tūkrah is مصيف مرحبا للعائلات.\n",
      "------------\n",
      "-------End of Search-------\n"
     ]
    }
   ],
   "source": [
    "for index, row in hotel_df.iterrows():\n",
    "    # get city name, lat, lnt from df\n",
    "    lat = row[\"Lat\"]\n",
    "    lng = row[\"Lng\"]\n",
    "    city_name = row[\"City\"]\n",
    "    \n",
    "    # add keyword to params dict\n",
    "    params[\"location\"] = f\"{lat},{lng}\"\n",
    "\n",
    "    # assemble url and make API request\n",
    "    print(f\"Retrieving Results for Index {index}: {city_name}.\")\n",
    "    response = requests.get(url, params=params).json()\n",
    "    \n",
    "    # extract results\n",
    "    results = response['results']\n",
    "    \n",
    "    # save the hotel name to dataframe\n",
    "    try:\n",
    "        print(f\"Closest hotel in {city_name} is {results[0]['name']}.\")\n",
    "        hotel_df.loc[index, \"Hotel Name\"] = results[0]['name']\n",
    "\n",
    "    # if there is no hotel available, replace with NaN\n",
    "    except (KeyError, IndexError):\n",
    "        print(\"Missing field/result... skipping.\")\n",
    "        hotel_df.loc[index, \"Hotel Name\"] = np.nan\n",
    "        \n",
    "    print(\"------------\")\n",
    "\n",
    "# Print end of search once searching is completed\n",
    "print(\"-------End of Search-------\")"
   ]
  },
  {
   "cell_type": "code",
   "execution_count": 15,
   "metadata": {},
   "outputs": [
    {
     "data": {
      "text/html": [
       "<div>\n",
       "<style scoped>\n",
       "    .dataframe tbody tr th:only-of-type {\n",
       "        vertical-align: middle;\n",
       "    }\n",
       "\n",
       "    .dataframe tbody tr th {\n",
       "        vertical-align: top;\n",
       "    }\n",
       "\n",
       "    .dataframe thead th {\n",
       "        text-align: right;\n",
       "    }\n",
       "</style>\n",
       "<table border=\"1\" class=\"dataframe\">\n",
       "  <thead>\n",
       "    <tr style=\"text-align: right;\">\n",
       "      <th></th>\n",
       "      <th>City</th>\n",
       "      <th>Country</th>\n",
       "      <th>Lat</th>\n",
       "      <th>Lng</th>\n",
       "      <th>Hotel Name</th>\n",
       "    </tr>\n",
       "  </thead>\n",
       "  <tbody>\n",
       "    <tr>\n",
       "      <th>12</th>\n",
       "      <td>Albany</td>\n",
       "      <td>US</td>\n",
       "      <td>42.6001</td>\n",
       "      <td>-73.9662</td>\n",
       "      <td>NaN</td>\n",
       "    </tr>\n",
       "    <tr>\n",
       "      <th>22</th>\n",
       "      <td>Jamestown</td>\n",
       "      <td>US</td>\n",
       "      <td>42.0970</td>\n",
       "      <td>-79.2353</td>\n",
       "      <td>La Quinta Inn &amp; Suites by Wyndham Jamestown</td>\n",
       "    </tr>\n",
       "    <tr>\n",
       "      <th>67</th>\n",
       "      <td>Goderich</td>\n",
       "      <td>CA</td>\n",
       "      <td>43.7501</td>\n",
       "      <td>-81.7165</td>\n",
       "      <td>Comfort Inn &amp; Suites</td>\n",
       "    </tr>\n",
       "    <tr>\n",
       "      <th>132</th>\n",
       "      <td>Baena</td>\n",
       "      <td>ES</td>\n",
       "      <td>37.6167</td>\n",
       "      <td>-4.3225</td>\n",
       "      <td>La Casa Grande</td>\n",
       "    </tr>\n",
       "    <tr>\n",
       "      <th>359</th>\n",
       "      <td>Freeport</td>\n",
       "      <td>US</td>\n",
       "      <td>40.6576</td>\n",
       "      <td>-73.5832</td>\n",
       "      <td>Ramada by Wyndham Rockville Centre</td>\n",
       "    </tr>\n",
       "    <tr>\n",
       "      <th>372</th>\n",
       "      <td>Loralai</td>\n",
       "      <td>PK</td>\n",
       "      <td>30.3705</td>\n",
       "      <td>68.5980</td>\n",
       "      <td>Pakiza Hotel</td>\n",
       "    </tr>\n",
       "    <tr>\n",
       "      <th>448</th>\n",
       "      <td>Ypsilanti</td>\n",
       "      <td>US</td>\n",
       "      <td>42.2412</td>\n",
       "      <td>-83.6130</td>\n",
       "      <td>NaN</td>\n",
       "    </tr>\n",
       "    <tr>\n",
       "      <th>496</th>\n",
       "      <td>Tūkrah</td>\n",
       "      <td>LY</td>\n",
       "      <td>32.5341</td>\n",
       "      <td>20.5791</td>\n",
       "      <td>مصيف مرحبا للعائلات</td>\n",
       "    </tr>\n",
       "  </tbody>\n",
       "</table>\n",
       "</div>"
      ],
      "text/plain": [
       "          City Country      Lat      Lng  \\\n",
       "12      Albany      US  42.6001 -73.9662   \n",
       "22   Jamestown      US  42.0970 -79.2353   \n",
       "67    Goderich      CA  43.7501 -81.7165   \n",
       "132      Baena      ES  37.6167  -4.3225   \n",
       "359   Freeport      US  40.6576 -73.5832   \n",
       "372    Loralai      PK  30.3705  68.5980   \n",
       "448  Ypsilanti      US  42.2412 -83.6130   \n",
       "496     Tūkrah      LY  32.5341  20.5791   \n",
       "\n",
       "                                      Hotel Name  \n",
       "12                                           NaN  \n",
       "22   La Quinta Inn & Suites by Wyndham Jamestown  \n",
       "67                          Comfort Inn & Suites  \n",
       "132                               La Casa Grande  \n",
       "359           Ramada by Wyndham Rockville Centre  \n",
       "372                                 Pakiza Hotel  \n",
       "448                                          NaN  \n",
       "496                          مصيف مرحبا للعائلات  "
      ]
     },
     "execution_count": 15,
     "metadata": {},
     "output_type": "execute_result"
    }
   ],
   "source": [
    "hotel_df"
   ]
  },
  {
   "cell_type": "code",
   "execution_count": 16,
   "metadata": {},
   "outputs": [
    {
     "data": {
      "text/html": [
       "<div>\n",
       "<style scoped>\n",
       "    .dataframe tbody tr th:only-of-type {\n",
       "        vertical-align: middle;\n",
       "    }\n",
       "\n",
       "    .dataframe tbody tr th {\n",
       "        vertical-align: top;\n",
       "    }\n",
       "\n",
       "    .dataframe thead th {\n",
       "        text-align: right;\n",
       "    }\n",
       "</style>\n",
       "<table border=\"1\" class=\"dataframe\">\n",
       "  <thead>\n",
       "    <tr style=\"text-align: right;\">\n",
       "      <th></th>\n",
       "      <th>City</th>\n",
       "      <th>Country</th>\n",
       "      <th>Lat</th>\n",
       "      <th>Lng</th>\n",
       "      <th>Hotel Name</th>\n",
       "    </tr>\n",
       "  </thead>\n",
       "  <tbody>\n",
       "    <tr>\n",
       "      <th>1</th>\n",
       "      <td>Jamestown</td>\n",
       "      <td>US</td>\n",
       "      <td>42.0970</td>\n",
       "      <td>-79.2353</td>\n",
       "      <td>La Quinta Inn &amp; Suites by Wyndham Jamestown</td>\n",
       "    </tr>\n",
       "    <tr>\n",
       "      <th>2</th>\n",
       "      <td>Goderich</td>\n",
       "      <td>CA</td>\n",
       "      <td>43.7501</td>\n",
       "      <td>-81.7165</td>\n",
       "      <td>Comfort Inn &amp; Suites</td>\n",
       "    </tr>\n",
       "    <tr>\n",
       "      <th>3</th>\n",
       "      <td>Baena</td>\n",
       "      <td>ES</td>\n",
       "      <td>37.6167</td>\n",
       "      <td>-4.3225</td>\n",
       "      <td>La Casa Grande</td>\n",
       "    </tr>\n",
       "    <tr>\n",
       "      <th>4</th>\n",
       "      <td>Freeport</td>\n",
       "      <td>US</td>\n",
       "      <td>40.6576</td>\n",
       "      <td>-73.5832</td>\n",
       "      <td>Ramada by Wyndham Rockville Centre</td>\n",
       "    </tr>\n",
       "    <tr>\n",
       "      <th>5</th>\n",
       "      <td>Loralai</td>\n",
       "      <td>PK</td>\n",
       "      <td>30.3705</td>\n",
       "      <td>68.5980</td>\n",
       "      <td>Pakiza Hotel</td>\n",
       "    </tr>\n",
       "    <tr>\n",
       "      <th>7</th>\n",
       "      <td>Tūkrah</td>\n",
       "      <td>LY</td>\n",
       "      <td>32.5341</td>\n",
       "      <td>20.5791</td>\n",
       "      <td>مصيف مرحبا للعائلات</td>\n",
       "    </tr>\n",
       "  </tbody>\n",
       "</table>\n",
       "</div>"
      ],
      "text/plain": [
       "        City Country      Lat      Lng  \\\n",
       "1  Jamestown      US  42.0970 -79.2353   \n",
       "2   Goderich      CA  43.7501 -81.7165   \n",
       "3      Baena      ES  37.6167  -4.3225   \n",
       "4   Freeport      US  40.6576 -73.5832   \n",
       "5    Loralai      PK  30.3705  68.5980   \n",
       "7     Tūkrah      LY  32.5341  20.5791   \n",
       "\n",
       "                                    Hotel Name  \n",
       "1  La Quinta Inn & Suites by Wyndham Jamestown  \n",
       "2                         Comfort Inn & Suites  \n",
       "3                               La Casa Grande  \n",
       "4           Ramada by Wyndham Rockville Centre  \n",
       "5                                 Pakiza Hotel  \n",
       "7                          مصيف مرحبا للعائلات  "
      ]
     },
     "execution_count": 16,
     "metadata": {},
     "output_type": "execute_result"
    }
   ],
   "source": [
    "# Reset index of hotel_df and drop rows with NaN values\n",
    "hotel_df = hotel_df.reset_index(drop=True)\n",
    "clean_hotel_df = hotel_df.dropna(subset=['Hotel Name'],axis=0)\n",
    "clean_hotel_df"
   ]
  },
  {
   "cell_type": "code",
   "execution_count": 17,
   "metadata": {},
   "outputs": [],
   "source": [
    "# NOTE: Do not change any of the code in this cell\n",
    "\n",
    "# Using the template add the hotel marks to the heatmap\n",
    "info_box_template = \"\"\"\n",
    "<dl>\n",
    "<dt>Name</dt><dd>{Hotel Name}</dd>\n",
    "<dt>City</dt><dd>{City}</dd>\n",
    "<dt>Country</dt><dd>{Country}</dd>\n",
    "</dl>\n",
    "\"\"\"\n",
    "# Store the DataFrame Row\n",
    "# NOTE: be sure to update with your DataFrame name\n",
    "#hotel_info = [info_box_template.format(**row) for index, row in narrowed_city_df.iterrows()]\n",
    "hotel_info = [info_box_template.format(**row) for index, row in hotel_df.iterrows()]\n",
    "locations = hotel_df[[\"Lat\", \"Lng\"]]"
   ]
  },
  {
   "cell_type": "code",
   "execution_count": 18,
   "metadata": {},
   "outputs": [
    {
     "data": {
      "application/vnd.jupyter.widget-view+json": {
       "model_id": "4c77878878f54e8899f97018f88a38b9",
       "version_major": 2,
       "version_minor": 0
      },
      "text/plain": [
       "Figure(layout=FigureLayout(height='420px'))"
      ]
     },
     "metadata": {},
     "output_type": "display_data"
    }
   ],
   "source": [
    "# Add marker layer and info box content ontop of heat map\n",
    "markers = gmaps.marker_layer(locations, info_box_content = hotel_info)\n",
    "\n",
    "# Add the layer to the map\n",
    "fig.add_layer(markers)\n",
    "\n",
    "# Display Map\n",
    "fig"
   ]
  }
 ],
 "metadata": {
  "interpreter": {
   "hash": "dacb2657fcd5c5e7463469286d4fe5c67f0ba5871e6062ccaf0e5813f76b182b"
  },
  "kernelspec": {
   "display_name": "Python 3",
   "language": "python",
   "name": "python3"
  },
  "language_info": {
   "codemirror_mode": {
    "name": "ipython",
    "version": 3
   },
   "file_extension": ".py",
   "mimetype": "text/x-python",
   "name": "python",
   "nbconvert_exporter": "python",
   "pygments_lexer": "ipython3",
   "version": "3.8.8"
  }
 },
 "nbformat": 4,
 "nbformat_minor": 2
}
